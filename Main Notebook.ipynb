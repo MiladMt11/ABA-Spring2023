{
 "cells": [
  {
   "cell_type": "markdown",
   "id": "f6bae2d1",
   "metadata": {},
   "source": [
    "# Libraries"
   ]
  },
  {
   "cell_type": "code",
   "execution_count": 26,
   "id": "cfa1f33d",
   "metadata": {},
   "outputs": [],
   "source": [
    "import pandas as pd\n",
    "import numpy as np\n",
    "import pickle"
   ]
  },
  {
   "cell_type": "markdown",
   "id": "f381b13f",
   "metadata": {},
   "source": [
    "# Load Datasets"
   ]
  },
  {
   "cell_type": "code",
   "execution_count": 27,
   "id": "8c8c8164",
   "metadata": {},
   "outputs": [],
   "source": [
    "path = 'D://DTU//DTU_Courses//Second Semester//Advanced BA//Project//ABA-Spring2023//Data//Pickle Files//'"
   ]
  },
  {
   "cell_type": "code",
   "execution_count": 28,
   "id": "3629745b",
   "metadata": {},
   "outputs": [],
   "source": [
    "with open('D://DTU//DTU_Courses//Second Semester//Advanced BA//Project//Disease_indicator_df.pickle', 'rb') as f:\n",
    "    disease_df = pickle.load(f)"
   ]
  },
  {
   "cell_type": "code",
   "execution_count": 29,
   "id": "c5263a4e",
   "metadata": {},
   "outputs": [],
   "source": [
    "with open(path+'pollution_annual_df.pickle', 'rb') as f:\n",
    "    pollution_annual_df = pickle.load(f)"
   ]
  },
  {
   "cell_type": "code",
   "execution_count": 30,
   "id": "d5029128",
   "metadata": {},
   "outputs": [],
   "source": [
    "with open(path+'pollution_seasonal_df.pickle', 'rb') as f:\n",
    "    pollution_season_df = pickle.load(f)"
   ]
  },
  {
   "cell_type": "code",
   "execution_count": 31,
   "id": "b76dbf1c",
   "metadata": {},
   "outputs": [],
   "source": [
    "with open(path+'Population_df.pickle', 'rb') as f:\n",
    "    pop_df = pickle.load(f)"
   ]
  },
  {
   "cell_type": "code",
   "execution_count": 32,
   "id": "97d80155",
   "metadata": {},
   "outputs": [],
   "source": [
    "with open(path+'Tax_df.pickle', 'rb') as f:\n",
    "    tax_df = pickle.load(f)"
   ]
  },
  {
   "cell_type": "markdown",
   "id": "d9778a9f",
   "metadata": {},
   "source": [
    "# Preprocessing"
   ]
  },
  {
   "cell_type": "code",
   "execution_count": 47,
   "id": "1212baa0",
   "metadata": {},
   "outputs": [
    {
     "data": {
      "text/html": [
       "<div>\n",
       "<style scoped>\n",
       "    .dataframe tbody tr th:only-of-type {\n",
       "        vertical-align: middle;\n",
       "    }\n",
       "\n",
       "    .dataframe tbody tr th {\n",
       "        vertical-align: top;\n",
       "    }\n",
       "\n",
       "    .dataframe thead th {\n",
       "        text-align: right;\n",
       "    }\n",
       "</style>\n",
       "<table border=\"1\" class=\"dataframe\">\n",
       "  <thead>\n",
       "    <tr style=\"text-align: right;\">\n",
       "      <th></th>\n",
       "      <th>State</th>\n",
       "      <th>Year</th>\n",
       "      <th>Population</th>\n",
       "    </tr>\n",
       "  </thead>\n",
       "  <tbody>\n",
       "    <tr>\n",
       "      <th>0</th>\n",
       "      <td>United States</td>\n",
       "      <td>2010</td>\n",
       "      <td>309321666</td>\n",
       "    </tr>\n",
       "    <tr>\n",
       "      <th>1</th>\n",
       "      <td>Northeast Region</td>\n",
       "      <td>2010</td>\n",
       "      <td>55380134</td>\n",
       "    </tr>\n",
       "    <tr>\n",
       "      <th>2</th>\n",
       "      <td>Midwest Region</td>\n",
       "      <td>2010</td>\n",
       "      <td>66974416</td>\n",
       "    </tr>\n",
       "    <tr>\n",
       "      <th>3</th>\n",
       "      <td>South Region</td>\n",
       "      <td>2010</td>\n",
       "      <td>114866680</td>\n",
       "    </tr>\n",
       "    <tr>\n",
       "      <th>4</th>\n",
       "      <td>West Region</td>\n",
       "      <td>2010</td>\n",
       "      <td>72100436</td>\n",
       "    </tr>\n",
       "    <tr>\n",
       "      <th>...</th>\n",
       "      <td>...</td>\n",
       "      <td>...</td>\n",
       "      <td>...</td>\n",
       "    </tr>\n",
       "    <tr>\n",
       "      <th>565</th>\n",
       "      <td>Washington</td>\n",
       "      <td>2019</td>\n",
       "      <td>7614893</td>\n",
       "    </tr>\n",
       "    <tr>\n",
       "      <th>566</th>\n",
       "      <td>West Virginia</td>\n",
       "      <td>2019</td>\n",
       "      <td>1792147</td>\n",
       "    </tr>\n",
       "    <tr>\n",
       "      <th>567</th>\n",
       "      <td>Wisconsin</td>\n",
       "      <td>2019</td>\n",
       "      <td>5822434</td>\n",
       "    </tr>\n",
       "    <tr>\n",
       "      <th>568</th>\n",
       "      <td>Wyoming</td>\n",
       "      <td>2019</td>\n",
       "      <td>578759</td>\n",
       "    </tr>\n",
       "    <tr>\n",
       "      <th>569</th>\n",
       "      <td>Puerto Rico</td>\n",
       "      <td>2019</td>\n",
       "      <td>3193694</td>\n",
       "    </tr>\n",
       "  </tbody>\n",
       "</table>\n",
       "<p>570 rows × 3 columns</p>\n",
       "</div>"
      ],
      "text/plain": [
       "                State  Year  Population\n",
       "0       United States  2010   309321666\n",
       "1    Northeast Region  2010    55380134\n",
       "2      Midwest Region  2010    66974416\n",
       "3        South Region  2010   114866680\n",
       "4         West Region  2010    72100436\n",
       "..                ...   ...         ...\n",
       "565        Washington  2019     7614893\n",
       "566     West Virginia  2019     1792147\n",
       "567         Wisconsin  2019     5822434\n",
       "568           Wyoming  2019      578759\n",
       "569       Puerto Rico  2019     3193694\n",
       "\n",
       "[570 rows x 3 columns]"
      ]
     },
     "execution_count": 47,
     "metadata": {},
     "output_type": "execute_result"
    }
   ],
   "source": [
    "disease_df\n",
    "\n",
    "\n",
    "tax_df\n",
    "\n",
    "pop_df"
   ]
  }
 ],
 "metadata": {
  "kernelspec": {
   "display_name": "Python 3 (ipykernel)",
   "language": "python",
   "name": "python3"
  },
  "language_info": {
   "codemirror_mode": {
    "name": "ipython",
    "version": 3
   },
   "file_extension": ".py",
   "mimetype": "text/x-python",
   "name": "python",
   "nbconvert_exporter": "python",
   "pygments_lexer": "ipython3",
   "version": "3.10.0"
  }
 },
 "nbformat": 4,
 "nbformat_minor": 5
}
